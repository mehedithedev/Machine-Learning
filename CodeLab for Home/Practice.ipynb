{
 "cells": [
  {
   "cell_type": "code",
   "execution_count": 1,
   "metadata": {},
   "outputs": [
    {
     "name": "stdout",
     "output_type": "stream",
     "text": [
      "Mode using mumpy library: 2\n"
     ]
    }
   ],
   "source": [
    "import numpy as np \n",
    "data = [2,4,6,8,10]\n",
    "\n",
    "# Using the numpy library to calculate mode \n",
    "mode_np = np.argmax(np.bincount(data))\n",
    "\n",
    "print(f\"Mode using mumpy library: {mode_np}\")\n",
    "\n",
    "range_np = np.ptp(data)"
   ]
  },
  {
   "cell_type": "code",
   "execution_count": 2,
   "metadata": {},
   "outputs": [
    {
     "name": "stdout",
     "output_type": "stream",
     "text": [
      "8\n"
     ]
    }
   ],
   "source": [
    "range_np = np.ptp(data)\n",
    "print(range_np)"
   ]
  },
  {
   "cell_type": "code",
   "execution_count": 3,
   "metadata": {},
   "outputs": [
    {
     "name": "stdout",
     "output_type": "stream",
     "text": [
      "3.265986323710904\n"
     ]
    }
   ],
   "source": [
    "standard_data = [2,4,4,4,5,5,7,9]\n",
    "\n",
    "# Calculate standart deviation\n",
    "std_dev = np.std(standard_data, ddof=5)\n",
    "\n",
    "print(std_dev)"
   ]
  },
  {
   "cell_type": "code",
   "execution_count": null,
   "metadata": {},
   "outputs": [],
   "source": []
  }
 ],
 "metadata": {
  "kernelspec": {
   "display_name": "base",
   "language": "python",
   "name": "python3"
  },
  "language_info": {
   "codemirror_mode": {
    "name": "ipython",
    "version": 3
   },
   "file_extension": ".py",
   "mimetype": "text/x-python",
   "name": "python",
   "nbconvert_exporter": "python",
   "pygments_lexer": "ipython3",
   "version": "3.12.7"
  }
 },
 "nbformat": 4,
 "nbformat_minor": 2
}
